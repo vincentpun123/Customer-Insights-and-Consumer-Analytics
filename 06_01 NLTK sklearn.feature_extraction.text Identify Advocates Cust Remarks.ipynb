{
 "cells": [
  {
   "cell_type": "markdown",
   "metadata": {},
   "source": [
    "**Identify Advocates in Own Customer Data**"
   ]
  },
  {
   "cell_type": "code",
   "execution_count": 1,
   "metadata": {},
   "outputs": [],
   "source": [
    "import pandas as pd"
   ]
  },
  {
   "cell_type": "code",
   "execution_count": 2,
   "metadata": {},
   "outputs": [],
   "source": [
    "df = pd.read_csv(\"data/ci-data.csv\")"
   ]
  },
  {
   "cell_type": "code",
   "execution_count": 3,
   "metadata": {
    "scrolled": true
   },
   "outputs": [
    {
     "data": {
      "text/plain": [
       "0    In hac habitasse platea dictumst. Etiam faucib...\n",
       "1    Praesent blandit. Nam nulla. Integer pede just...\n",
       "2    Praesent id massa id nisl venenatis lacinia. A...\n",
       "3    In hac habitasse platea dictumst. Morbi vestib...\n",
       "4    Pellentesque at nulla. Suspendisse potenti. Cr...\n",
       "Name: remarks, dtype: object"
      ]
     },
     "execution_count": 3,
     "metadata": {},
     "output_type": "execute_result"
    }
   ],
   "source": [
    "df.remarks[0:5]"
   ]
  },
  {
   "cell_type": "markdown",
   "metadata": {},
   "source": [
    "We want to deconstruct the strings below and find remarks that are similar to these"
   ]
  },
  {
   "cell_type": "code",
   "execution_count": 4,
   "metadata": {},
   "outputs": [],
   "source": [
    "remarks = ['This is the best bank on the planet.',\n",
    "           'Lots of changes to their savings account product. It is terrible.',\n",
    "           'The new app takes some getting used to but it is good once you learn it']"
   ]
  },
  {
   "cell_type": "markdown",
   "metadata": {},
   "source": [
    "sentence tokenizer (punkt), natural language toolkit"
   ]
  },
  {
   "cell_type": "code",
   "execution_count": 5,
   "metadata": {},
   "outputs": [
    {
     "name": "stderr",
     "output_type": "stream",
     "text": [
      "[nltk_data] Downloading package punkt to\n",
      "[nltk_data]     C:\\Users\\vince\\AppData\\Roaming\\nltk_data...\n",
      "[nltk_data]   Unzipping tokenizers\\punkt.zip.\n"
     ]
    },
    {
     "data": {
      "text/plain": [
       "True"
      ]
     },
     "execution_count": 5,
     "metadata": {},
     "output_type": "execute_result"
    }
   ],
   "source": [
    "from sklearn.feature_extraction.text import CountVectorizer\n",
    "import nltk\n",
    "nltk.download('punkt')"
   ]
  },
  {
   "cell_type": "markdown",
   "metadata": {},
   "source": [
    "Convert remarks collection into a matrix of token counts"
   ]
  },
  {
   "cell_type": "markdown",
   "metadata": {},
   "source": [
    "https://towardsdatascience.com/natural-language-processing-count-vectorization-with-scikit-learn-e7804269bb5e"
   ]
  },
  {
   "cell_type": "code",
   "execution_count": 6,
   "metadata": {},
   "outputs": [],
   "source": [
    "remarks_token_counts = CountVectorizer(min_df=1, tokenizer=nltk.word_tokenize)"
   ]
  },
  {
   "cell_type": "markdown",
   "metadata": {},
   "source": [
    "Transform to vector of word frequency counts"
   ]
  },
  {
   "cell_type": "code",
   "execution_count": 7,
   "metadata": {},
   "outputs": [],
   "source": [
    "remarks_as_sparse_vector = remarks_token_counts.fit_transform(remarks)"
   ]
  },
  {
   "cell_type": "code",
   "execution_count": 15,
   "metadata": {},
   "outputs": [
    {
     "data": {
      "text/plain": [
       "{'this': 25,\n",
       " 'is': 9,\n",
       " 'the': 23,\n",
       " 'best': 4,\n",
       " 'bank': 3,\n",
       " 'on': 15,\n",
       " 'planet': 17,\n",
       " '.': 0,\n",
       " 'lots': 12,\n",
       " 'of': 14,\n",
       " 'changes': 6,\n",
       " 'to': 26,\n",
       " 'their': 24,\n",
       " 'savings': 19,\n",
       " 'account': 1,\n",
       " 'product': 18,\n",
       " 'it': 10,\n",
       " 'terrible': 22,\n",
       " 'new': 13,\n",
       " 'app': 2,\n",
       " 'takes': 21,\n",
       " 'some': 20,\n",
       " 'getting': 7,\n",
       " 'used': 27,\n",
       " 'but': 5,\n",
       " 'good': 8,\n",
       " 'once': 16,\n",
       " 'you': 28,\n",
       " 'learn': 11}"
      ]
     },
     "execution_count": 15,
     "metadata": {},
     "output_type": "execute_result"
    }
   ],
   "source": [
    "#Map unique words to indexes\n",
    "remarks_token_counts.vocabulary_"
   ]
  },
  {
   "cell_type": "code",
   "execution_count": null,
   "metadata": {},
   "outputs": [],
   "source": []
  },
  {
   "cell_type": "code",
   "execution_count": 11,
   "metadata": {},
   "outputs": [],
   "source": [
    "from vaderSentiment.vaderSentiment import SentimentIntensityAnalyzer"
   ]
  },
  {
   "cell_type": "code",
   "execution_count": 12,
   "metadata": {},
   "outputs": [],
   "source": [
    "#Assign class to analyser variable\n",
    "analyser = SentimentIntensityAnalyzer()"
   ]
  },
  {
   "cell_type": "code",
   "execution_count": 13,
   "metadata": {},
   "outputs": [],
   "source": [
    "#pull sentence in and provide score \n",
    "def sentiment_analyser_scores(sentence):\n",
    "    score = analyser.polarity_scores(sentence)\n",
    "    print(\"{}{}\".format(sentence, str(score)))"
   ]
  },
  {
   "cell_type": "code",
   "execution_count": 14,
   "metadata": {},
   "outputs": [
    {
     "name": "stdout",
     "output_type": "stream",
     "text": [
      "Best!!!!{'neg': 0.0, 'neu': 0.0, 'pos': 1.0, 'compound': 0.7482}\n"
     ]
    }
   ],
   "source": [
    "sentiment_analyser_scores(\"Best!!!!\")"
   ]
  },
  {
   "cell_type": "code",
   "execution_count": 19,
   "metadata": {},
   "outputs": [
    {
     "name": "stdout",
     "output_type": "stream",
     "text": [
      "ok!!{'neg': 0.0, 'neu': 1.0, 'pos': 0.0, 'compound': 0.0}\n"
     ]
    }
   ],
   "source": [
    "sentiment_analyser_scores('ok!!')"
   ]
  },
  {
   "cell_type": "code",
   "execution_count": 20,
   "metadata": {},
   "outputs": [
    {
     "name": "stdout",
     "output_type": "stream",
     "text": [
      "This is the best bank on the planet.{'neg': 0.0, 'neu': 0.625, 'pos': 0.375, 'compound': 0.6369}\n",
      "None\n",
      "Lots of changes to their savings account product. It is terrible.{'neg': 0.237, 'neu': 0.763, 'pos': 0.0, 'compound': -0.4767}\n",
      "None\n",
      "The new app takes some getting used to but it is good once you learn it{'neg': 0.0, 'neu': 0.796, 'pos': 0.204, 'compound': 0.5927}\n",
      "None\n"
     ]
    }
   ],
   "source": [
    "for x in remarks:\n",
    "    print(sentiment_analyser_scores(x))"
   ]
  }
 ],
 "metadata": {
  "kernelspec": {
   "display_name": "Python 3",
   "language": "python",
   "name": "python3"
  },
  "language_info": {
   "codemirror_mode": {
    "name": "ipython",
    "version": 3
   },
   "file_extension": ".py",
   "mimetype": "text/x-python",
   "name": "python",
   "nbconvert_exporter": "python",
   "pygments_lexer": "ipython3",
   "version": "3.8.5"
  }
 },
 "nbformat": 4,
 "nbformat_minor": 2
}
