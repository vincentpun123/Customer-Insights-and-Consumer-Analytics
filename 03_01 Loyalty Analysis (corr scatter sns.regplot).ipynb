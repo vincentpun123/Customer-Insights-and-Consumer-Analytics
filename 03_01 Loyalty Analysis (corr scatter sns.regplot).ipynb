{
 "cells": [
  {
   "cell_type": "code",
   "execution_count": 1,
   "metadata": {},
   "outputs": [],
   "source": [
    "import pandas as pd\n",
    "import matplotlib.pyplot as plt\n",
    "%matplotlib inline\n",
    "import warnings\n",
    "warnings.filterwarnings('ignore')"
   ]
  },
  {
   "cell_type": "code",
   "execution_count": 2,
   "metadata": {},
   "outputs": [],
   "source": [
    "ci_data = pd.read_csv('data/ci-data.csv')"
   ]
  },
  {
   "cell_type": "markdown",
   "metadata": {},
   "source": [
    "**look for correlation .5 or -.5 or more**"
   ]
  },
  {
   "cell_type": "code",
   "execution_count": 3,
   "metadata": {},
   "outputs": [
    {
     "data": {
      "text/html": [
       "<div>\n",
       "<style scoped>\n",
       "    .dataframe tbody tr th:only-of-type {\n",
       "        vertical-align: middle;\n",
       "    }\n",
       "\n",
       "    .dataframe tbody tr th {\n",
       "        vertical-align: top;\n",
       "    }\n",
       "\n",
       "    .dataframe thead th {\n",
       "        text-align: right;\n",
       "    }\n",
       "</style>\n",
       "<table border=\"1\" class=\"dataframe\">\n",
       "  <thead>\n",
       "    <tr style=\"text-align: right;\">\n",
       "      <th></th>\n",
       "      <th>purchase_counts</th>\n",
       "      <th>purchase_sum</th>\n",
       "      <th>attribution_score</th>\n",
       "      <th>website_visits</th>\n",
       "      <th>website_behavior_classification</th>\n",
       "      <th>experience</th>\n",
       "      <th>active</th>\n",
       "      <th>characteristic_one</th>\n",
       "      <th>characteristic_two</th>\n",
       "      <th>characteristic_three</th>\n",
       "      <th>customer_journey_progress_program</th>\n",
       "    </tr>\n",
       "  </thead>\n",
       "  <tbody>\n",
       "    <tr>\n",
       "      <th>purchase_counts</th>\n",
       "      <td>1.000000</td>\n",
       "      <td>0.114807</td>\n",
       "      <td>-0.042659</td>\n",
       "      <td>-0.004049</td>\n",
       "      <td>-0.046742</td>\n",
       "      <td>-0.040072</td>\n",
       "      <td>0.037639</td>\n",
       "      <td>-0.094548</td>\n",
       "      <td>-0.006161</td>\n",
       "      <td>0.048409</td>\n",
       "      <td>-0.012585</td>\n",
       "    </tr>\n",
       "    <tr>\n",
       "      <th>purchase_sum</th>\n",
       "      <td>0.114807</td>\n",
       "      <td>1.000000</td>\n",
       "      <td>-0.049966</td>\n",
       "      <td>-0.069247</td>\n",
       "      <td>-0.038276</td>\n",
       "      <td>0.025457</td>\n",
       "      <td>-0.034714</td>\n",
       "      <td>-0.056691</td>\n",
       "      <td>-0.065040</td>\n",
       "      <td>-0.005819</td>\n",
       "      <td>-0.002640</td>\n",
       "    </tr>\n",
       "    <tr>\n",
       "      <th>attribution_score</th>\n",
       "      <td>-0.042659</td>\n",
       "      <td>-0.049966</td>\n",
       "      <td>1.000000</td>\n",
       "      <td>-0.019553</td>\n",
       "      <td>0.017413</td>\n",
       "      <td>0.000997</td>\n",
       "      <td>-0.037774</td>\n",
       "      <td>0.052216</td>\n",
       "      <td>-0.029829</td>\n",
       "      <td>-0.074929</td>\n",
       "      <td>-0.025171</td>\n",
       "    </tr>\n",
       "    <tr>\n",
       "      <th>website_visits</th>\n",
       "      <td>-0.004049</td>\n",
       "      <td>-0.069247</td>\n",
       "      <td>-0.019553</td>\n",
       "      <td>1.000000</td>\n",
       "      <td>-0.026279</td>\n",
       "      <td>-0.053223</td>\n",
       "      <td>0.022142</td>\n",
       "      <td>0.017478</td>\n",
       "      <td>0.005452</td>\n",
       "      <td>-0.017198</td>\n",
       "      <td>-0.039103</td>\n",
       "    </tr>\n",
       "    <tr>\n",
       "      <th>website_behavior_classification</th>\n",
       "      <td>-0.046742</td>\n",
       "      <td>-0.038276</td>\n",
       "      <td>0.017413</td>\n",
       "      <td>-0.026279</td>\n",
       "      <td>1.000000</td>\n",
       "      <td>0.036122</td>\n",
       "      <td>0.150231</td>\n",
       "      <td>-0.060081</td>\n",
       "      <td>0.013270</td>\n",
       "      <td>-0.032667</td>\n",
       "      <td>0.090230</td>\n",
       "    </tr>\n",
       "    <tr>\n",
       "      <th>experience</th>\n",
       "      <td>-0.040072</td>\n",
       "      <td>0.025457</td>\n",
       "      <td>0.000997</td>\n",
       "      <td>-0.053223</td>\n",
       "      <td>0.036122</td>\n",
       "      <td>1.000000</td>\n",
       "      <td>0.046166</td>\n",
       "      <td>-0.051469</td>\n",
       "      <td>-0.050147</td>\n",
       "      <td>-0.000608</td>\n",
       "      <td>0.873334</td>\n",
       "    </tr>\n",
       "    <tr>\n",
       "      <th>active</th>\n",
       "      <td>0.037639</td>\n",
       "      <td>-0.034714</td>\n",
       "      <td>-0.037774</td>\n",
       "      <td>0.022142</td>\n",
       "      <td>0.150231</td>\n",
       "      <td>0.046166</td>\n",
       "      <td>1.000000</td>\n",
       "      <td>0.099303</td>\n",
       "      <td>0.061071</td>\n",
       "      <td>-0.015051</td>\n",
       "      <td>0.050226</td>\n",
       "    </tr>\n",
       "    <tr>\n",
       "      <th>characteristic_one</th>\n",
       "      <td>-0.094548</td>\n",
       "      <td>-0.056691</td>\n",
       "      <td>0.052216</td>\n",
       "      <td>0.017478</td>\n",
       "      <td>-0.060081</td>\n",
       "      <td>-0.051469</td>\n",
       "      <td>0.099303</td>\n",
       "      <td>1.000000</td>\n",
       "      <td>-0.030360</td>\n",
       "      <td>0.005048</td>\n",
       "      <td>-0.038408</td>\n",
       "    </tr>\n",
       "    <tr>\n",
       "      <th>characteristic_two</th>\n",
       "      <td>-0.006161</td>\n",
       "      <td>-0.065040</td>\n",
       "      <td>-0.029829</td>\n",
       "      <td>0.005452</td>\n",
       "      <td>0.013270</td>\n",
       "      <td>-0.050147</td>\n",
       "      <td>0.061071</td>\n",
       "      <td>-0.030360</td>\n",
       "      <td>1.000000</td>\n",
       "      <td>0.022838</td>\n",
       "      <td>-0.065153</td>\n",
       "    </tr>\n",
       "    <tr>\n",
       "      <th>characteristic_three</th>\n",
       "      <td>0.048409</td>\n",
       "      <td>-0.005819</td>\n",
       "      <td>-0.074929</td>\n",
       "      <td>-0.017198</td>\n",
       "      <td>-0.032667</td>\n",
       "      <td>-0.000608</td>\n",
       "      <td>-0.015051</td>\n",
       "      <td>0.005048</td>\n",
       "      <td>0.022838</td>\n",
       "      <td>1.000000</td>\n",
       "      <td>-0.018790</td>\n",
       "    </tr>\n",
       "    <tr>\n",
       "      <th>customer_journey_progress_program</th>\n",
       "      <td>-0.012585</td>\n",
       "      <td>-0.002640</td>\n",
       "      <td>-0.025171</td>\n",
       "      <td>-0.039103</td>\n",
       "      <td>0.090230</td>\n",
       "      <td>0.873334</td>\n",
       "      <td>0.050226</td>\n",
       "      <td>-0.038408</td>\n",
       "      <td>-0.065153</td>\n",
       "      <td>-0.018790</td>\n",
       "      <td>1.000000</td>\n",
       "    </tr>\n",
       "  </tbody>\n",
       "</table>\n",
       "</div>"
      ],
      "text/plain": [
       "                                   purchase_counts  purchase_sum  \\\n",
       "purchase_counts                           1.000000      0.114807   \n",
       "purchase_sum                              0.114807      1.000000   \n",
       "attribution_score                        -0.042659     -0.049966   \n",
       "website_visits                           -0.004049     -0.069247   \n",
       "website_behavior_classification          -0.046742     -0.038276   \n",
       "experience                               -0.040072      0.025457   \n",
       "active                                    0.037639     -0.034714   \n",
       "characteristic_one                       -0.094548     -0.056691   \n",
       "characteristic_two                       -0.006161     -0.065040   \n",
       "characteristic_three                      0.048409     -0.005819   \n",
       "customer_journey_progress_program        -0.012585     -0.002640   \n",
       "\n",
       "                                   attribution_score  website_visits  \\\n",
       "purchase_counts                            -0.042659       -0.004049   \n",
       "purchase_sum                               -0.049966       -0.069247   \n",
       "attribution_score                           1.000000       -0.019553   \n",
       "website_visits                             -0.019553        1.000000   \n",
       "website_behavior_classification             0.017413       -0.026279   \n",
       "experience                                  0.000997       -0.053223   \n",
       "active                                     -0.037774        0.022142   \n",
       "characteristic_one                          0.052216        0.017478   \n",
       "characteristic_two                         -0.029829        0.005452   \n",
       "characteristic_three                       -0.074929       -0.017198   \n",
       "customer_journey_progress_program          -0.025171       -0.039103   \n",
       "\n",
       "                                   website_behavior_classification  \\\n",
       "purchase_counts                                          -0.046742   \n",
       "purchase_sum                                             -0.038276   \n",
       "attribution_score                                         0.017413   \n",
       "website_visits                                           -0.026279   \n",
       "website_behavior_classification                           1.000000   \n",
       "experience                                                0.036122   \n",
       "active                                                    0.150231   \n",
       "characteristic_one                                       -0.060081   \n",
       "characteristic_two                                        0.013270   \n",
       "characteristic_three                                     -0.032667   \n",
       "customer_journey_progress_program                         0.090230   \n",
       "\n",
       "                                   experience    active  characteristic_one  \\\n",
       "purchase_counts                     -0.040072  0.037639           -0.094548   \n",
       "purchase_sum                         0.025457 -0.034714           -0.056691   \n",
       "attribution_score                    0.000997 -0.037774            0.052216   \n",
       "website_visits                      -0.053223  0.022142            0.017478   \n",
       "website_behavior_classification      0.036122  0.150231           -0.060081   \n",
       "experience                           1.000000  0.046166           -0.051469   \n",
       "active                               0.046166  1.000000            0.099303   \n",
       "characteristic_one                  -0.051469  0.099303            1.000000   \n",
       "characteristic_two                  -0.050147  0.061071           -0.030360   \n",
       "characteristic_three                -0.000608 -0.015051            0.005048   \n",
       "customer_journey_progress_program    0.873334  0.050226           -0.038408   \n",
       "\n",
       "                                   characteristic_two  characteristic_three  \\\n",
       "purchase_counts                             -0.006161              0.048409   \n",
       "purchase_sum                                -0.065040             -0.005819   \n",
       "attribution_score                           -0.029829             -0.074929   \n",
       "website_visits                               0.005452             -0.017198   \n",
       "website_behavior_classification              0.013270             -0.032667   \n",
       "experience                                  -0.050147             -0.000608   \n",
       "active                                       0.061071             -0.015051   \n",
       "characteristic_one                          -0.030360              0.005048   \n",
       "characteristic_two                           1.000000              0.022838   \n",
       "characteristic_three                         0.022838              1.000000   \n",
       "customer_journey_progress_program           -0.065153             -0.018790   \n",
       "\n",
       "                                   customer_journey_progress_program  \n",
       "purchase_counts                                            -0.012585  \n",
       "purchase_sum                                               -0.002640  \n",
       "attribution_score                                          -0.025171  \n",
       "website_visits                                             -0.039103  \n",
       "website_behavior_classification                             0.090230  \n",
       "experience                                                  0.873334  \n",
       "active                                                      0.050226  \n",
       "characteristic_one                                         -0.038408  \n",
       "characteristic_two                                         -0.065153  \n",
       "characteristic_three                                       -0.018790  \n",
       "customer_journey_progress_program                           1.000000  "
      ]
     },
     "execution_count": 3,
     "metadata": {},
     "output_type": "execute_result"
    }
   ],
   "source": [
    "ci_data.corr()"
   ]
  },
  {
   "cell_type": "code",
   "execution_count": 4,
   "metadata": {},
   "outputs": [
    {
     "data": {
      "text/plain": [
       "<AxesSubplot:xlabel='customer_journey_progress_program', ylabel='experience'>"
      ]
     },
     "execution_count": 4,
     "metadata": {},
     "output_type": "execute_result"
    },
    {
     "data": {
      "image/png": "[encoded data removed]",
      "text/plain": [
       "<Figure size 432x288 with 1 Axes>"
      ]
     },
     "metadata": {
      "needs_background": "light"
     },
     "output_type": "display_data"
    }
   ],
   "source": [
    "ci_data.plot.scatter(x='customer_journey_progress_program',y=\"experience\")"
   ]
  },
  {
   "cell_type": "code",
   "execution_count": 5,
   "metadata": {},
   "outputs": [
    {
     "data": {
      "text/plain": [
       "<AxesSubplot:xlabel='purchase_sum', ylabel='experience'>"
      ]
     },
     "execution_count": 5,
     "metadata": {},
     "output_type": "execute_result"
    },
    {
     "data": {
      "image/png": "[encoded data removed]",
      "text/plain": [
       "<Figure size 432x288 with 1 Axes>"
      ]
     },
     "metadata": {
      "needs_background": "light"
     },
     "output_type": "display_data"
    }
   ],
   "source": [
    "ci_data.plot.scatter(x=\"purchase_sum\",y=\"experience\")"
   ]
  },
  {
   "cell_type": "code",
   "execution_count": 6,
   "metadata": {},
   "outputs": [],
   "source": [
    "import numpy as np\n",
    "import seaborn as sns"
   ]
  },
  {
   "cell_type": "code",
   "execution_count": 7,
   "metadata": {},
   "outputs": [
    {
     "data": {
      "image/png": "[encoded data removed]",
      "text/plain": [
       "<Figure size 432x288 with 1 Axes>"
      ]
     },
     "metadata": {
      "needs_background": "light"
     },
     "output_type": "display_data"
    }
   ],
   "source": [
    "sns.regplot(x='customer_journey_progress_program',y=\"experience\", data=ci_data);"
   ]
  },
  {
   "cell_type": "code",
   "execution_count": null,
   "metadata": {},
   "outputs": [],
   "source": []
  }
 ],
 "metadata": {
  "kernelspec": {
   "display_name": "Python 3",
   "language": "python",
   "name": "python3"
  },
  "language_info": {
   "codemirror_mode": {
    "name": "ipython",
    "version": 3
   },
   "file_extension": ".py",
   "mimetype": "text/x-python",
   "name": "python",
   "nbconvert_exporter": "python",
   "pygments_lexer": "ipython3",
   "version": "3.8.5"
  }
 },
 "nbformat": 4,
 "nbformat_minor": 2
}
